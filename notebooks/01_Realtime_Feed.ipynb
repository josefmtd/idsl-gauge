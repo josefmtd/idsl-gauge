{
 "cells": [
  {
   "cell_type": "code",
   "execution_count": 1,
   "id": "a8dab2be-a818-4ed6-a234-3100d66c8289",
   "metadata": {},
   "outputs": [],
   "source": [
    "# !pip install idsl-gauge"
   ]
  },
  {
   "cell_type": "code",
   "execution_count": 2,
   "id": "7da0212a-ee13-4b23-9019-a6ba67021216",
   "metadata": {},
   "outputs": [],
   "source": [
    "from idsl_gauge import IDSLGauge\n",
    "import datetime\n",
    "import os"
   ]
  },
  {
   "cell_type": "code",
   "execution_count": 3,
   "id": "b2f0fc56-dff1-49b4-8298-b83aae6178ec",
   "metadata": {},
   "outputs": [],
   "source": [
    "os.environ['IDSL_GROUP'] = 'Indonesia'\n",
    "os.environ['IDSL_LATENCY_MINUTE'] = '60'\n",
    "os.environ['IDSL_WINDOW_MINUTE'] = '10'"
   ]
  },
  {
   "cell_type": "code",
   "execution_count": 4,
   "id": "ac735408-2cbe-4624-a8b8-7aa09eb7a330",
   "metadata": {},
   "outputs": [],
   "source": [
    "# IDSL environment variables\n",
    "group = os.environ.get('IDSL_GROUP')\n",
    "max_latency = int(os.environ.get('IDSL_LATENCY_MINUTE'))\n",
    "minutes = int(os.environ.get('IDSL_WINDOW_MINUTE'))"
   ]
  },
  {
   "cell_type": "code",
   "execution_count": 5,
   "id": "b55a068f-2d90-4241-b879-8dac258d0c58",
   "metadata": {},
   "outputs": [],
   "source": [
    "# Get station metadata\n",
    "gauges = IDSLGauge(group, max_latency)\n",
    "gauges.get_metadata()"
   ]
  },
  {
   "cell_type": "code",
   "execution_count": 6,
   "id": "d07ce7af-daa7-471a-9293-4630d6d599bf",
   "metadata": {},
   "outputs": [
    {
     "data": {
      "text/html": [
       "<div>\n",
       "<style scoped>\n",
       "    .dataframe tbody tr th:only-of-type {\n",
       "        vertical-align: middle;\n",
       "    }\n",
       "\n",
       "    .dataframe tbody tr th {\n",
       "        vertical-align: top;\n",
       "    }\n",
       "\n",
       "    .dataframe thead th {\n",
       "        text-align: right;\n",
       "    }\n",
       "</style>\n",
       "<table border=\"1\" class=\"dataframe\">\n",
       "  <thead>\n",
       "    <tr style=\"text-align: right;\">\n",
       "      <th></th>\n",
       "      <th>Longitude</th>\n",
       "      <th>Latitude</th>\n",
       "      <th>Name</th>\n",
       "      <th>Sensor</th>\n",
       "      <th>Location</th>\n",
       "      <th>Country</th>\n",
       "      <th>Region</th>\n",
       "      <th>Provider</th>\n",
       "      <th>Latency_Seconds</th>\n",
       "    </tr>\n",
       "    <tr>\n",
       "      <th>id</th>\n",
       "      <th></th>\n",
       "      <th></th>\n",
       "      <th></th>\n",
       "      <th></th>\n",
       "      <th></th>\n",
       "      <th></th>\n",
       "      <th></th>\n",
       "      <th></th>\n",
       "      <th></th>\n",
       "    </tr>\n",
       "  </thead>\n",
       "  <tbody>\n",
       "    <tr>\n",
       "      <th>206</th>\n",
       "      <td>105.512106</td>\n",
       "      <td>-5.936047</td>\n",
       "      <td>IDSL-301</td>\n",
       "      <td>RAD</td>\n",
       "      <td>Sebesi</td>\n",
       "      <td>Indonesia</td>\n",
       "      <td>Lampung</td>\n",
       "      <td>JRC-MMAF</td>\n",
       "      <td>11</td>\n",
       "    </tr>\n",
       "    <tr>\n",
       "      <th>207</th>\n",
       "      <td>105.841088</td>\n",
       "      <td>-6.189322</td>\n",
       "      <td>IDSL-302</td>\n",
       "      <td>RAD</td>\n",
       "      <td>Marina Jambu</td>\n",
       "      <td>Indonesia</td>\n",
       "      <td>Banten</td>\n",
       "      <td>JRC-MMAF</td>\n",
       "      <td>19</td>\n",
       "    </tr>\n",
       "    <tr>\n",
       "      <th>208</th>\n",
       "      <td>99.585453</td>\n",
       "      <td>-2.037654</td>\n",
       "      <td>IDSL-303</td>\n",
       "      <td>RAD</td>\n",
       "      <td>Mentawai Tua Pejat</td>\n",
       "      <td>Indonesia</td>\n",
       "      <td>West Sumatra</td>\n",
       "      <td>JRC-MMAF</td>\n",
       "      <td>4</td>\n",
       "    </tr>\n",
       "    <tr>\n",
       "      <th>483</th>\n",
       "      <td>100.396191</td>\n",
       "      <td>-1.029661</td>\n",
       "      <td>IDSL-305</td>\n",
       "      <td>RAD</td>\n",
       "      <td>Bungus Port</td>\n",
       "      <td>Indonesia</td>\n",
       "      <td>West Sumatra</td>\n",
       "      <td>JRC-MMAF</td>\n",
       "      <td>5</td>\n",
       "    </tr>\n",
       "    <tr>\n",
       "      <th>484</th>\n",
       "      <td>110.799053</td>\n",
       "      <td>-8.190314</td>\n",
       "      <td>IDSL-306</td>\n",
       "      <td>RAD</td>\n",
       "      <td>Sadeng Port</td>\n",
       "      <td>Indonesia</td>\n",
       "      <td>Daerah Istimewa Yogyakarta</td>\n",
       "      <td>JRC-MMAF</td>\n",
       "      <td>10</td>\n",
       "    </tr>\n",
       "  </tbody>\n",
       "</table>\n",
       "</div>"
      ],
      "text/plain": [
       "      Longitude  Latitude      Name Sensor            Location    Country  \\\n",
       "id                                                                          \n",
       "206  105.512106 -5.936047  IDSL-301    RAD             Sebesi   Indonesia   \n",
       "207  105.841088 -6.189322  IDSL-302    RAD        Marina Jambu  Indonesia   \n",
       "208   99.585453 -2.037654  IDSL-303    RAD  Mentawai Tua Pejat  Indonesia   \n",
       "483  100.396191 -1.029661  IDSL-305    RAD         Bungus Port  Indonesia   \n",
       "484  110.799053 -8.190314  IDSL-306    RAD         Sadeng Port  Indonesia   \n",
       "\n",
       "                         Region  Provider  Latency_Seconds  \n",
       "id                                                          \n",
       "206                     Lampung  JRC-MMAF               11  \n",
       "207                      Banten  JRC-MMAF               19  \n",
       "208                West Sumatra  JRC-MMAF                4  \n",
       "483                West Sumatra  JRC-MMAF                5  \n",
       "484  Daerah Istimewa Yogyakarta  JRC-MMAF               10  "
      ]
     },
     "execution_count": 6,
     "metadata": {},
     "output_type": "execute_result"
    }
   ],
   "source": [
    "gauges.metadata.head()"
   ]
  },
  {
   "cell_type": "code",
   "execution_count": 7,
   "id": "8b78db33-b8b3-45f1-8d8c-af5e14a402b7",
   "metadata": {},
   "outputs": [
    {
     "data": {
      "text/plain": [
       "['206', '207', '208', '483', '484']"
      ]
     },
     "execution_count": 7,
     "metadata": {},
     "output_type": "execute_result"
    }
   ],
   "source": [
    "gauges.stations"
   ]
  },
  {
   "cell_type": "code",
   "execution_count": 8,
   "id": "320a2bc6-c38c-4486-b594-1e2290d351f6",
   "metadata": {},
   "outputs": [],
   "source": [
    "end = datetime.datetime.utcnow()\n",
    "start = end - datetime.timedelta(minutes = minutes)\n",
    "station = gauges.stations[0]"
   ]
  },
  {
   "cell_type": "code",
   "execution_count": 9,
   "id": "db5f3b6b-e872-4b9f-934f-3a2bc0b3c652",
   "metadata": {},
   "outputs": [
    {
     "data": {
      "text/html": [
       "<div>\n",
       "<style scoped>\n",
       "    .dataframe tbody tr th:only-of-type {\n",
       "        vertical-align: middle;\n",
       "    }\n",
       "\n",
       "    .dataframe tbody tr th {\n",
       "        vertical-align: top;\n",
       "    }\n",
       "\n",
       "    .dataframe thead th {\n",
       "        text-align: right;\n",
       "    }\n",
       "</style>\n",
       "<table border=\"1\" class=\"dataframe\">\n",
       "  <thead>\n",
       "    <tr style=\"text-align: right;\">\n",
       "      <th></th>\n",
       "      <th>WaterLevelRadar</th>\n",
       "      <th>SolarPanel</th>\n",
       "      <th>RmsLimit</th>\n",
       "      <th>CPUTemperature</th>\n",
       "      <th>AmbientTemperature</th>\n",
       "      <th>Alert</th>\n",
       "      <th>AlertSignal</th>\n",
       "      <th>Battery</th>\n",
       "      <th>Forecast30</th>\n",
       "      <th>Forecast300</th>\n",
       "      <th>Latitude</th>\n",
       "      <th>Longitude</th>\n",
       "      <th>StationID</th>\n",
       "    </tr>\n",
       "    <tr>\n",
       "      <th>Timestamp</th>\n",
       "      <th></th>\n",
       "      <th></th>\n",
       "      <th></th>\n",
       "      <th></th>\n",
       "      <th></th>\n",
       "      <th></th>\n",
       "      <th></th>\n",
       "      <th></th>\n",
       "      <th></th>\n",
       "      <th></th>\n",
       "      <th></th>\n",
       "      <th></th>\n",
       "      <th></th>\n",
       "    </tr>\n",
       "  </thead>\n",
       "  <tbody>\n",
       "    <tr>\n",
       "      <th>2021-06-21 03:30:24</th>\n",
       "      <td>0.694847</td>\n",
       "      <td>-5.5</td>\n",
       "      <td>0.006166</td>\n",
       "      <td>46.5</td>\n",
       "      <td>24.611229</td>\n",
       "      <td>0.0</td>\n",
       "      <td>0.010225</td>\n",
       "      <td>12.807974</td>\n",
       "      <td>0.690672</td>\n",
       "      <td>0.680448</td>\n",
       "      <td>-5.936047</td>\n",
       "      <td>105.512106</td>\n",
       "      <td>206</td>\n",
       "    </tr>\n",
       "    <tr>\n",
       "      <th>2021-06-21 03:30:35</th>\n",
       "      <td>0.682906</td>\n",
       "      <td>-5.5</td>\n",
       "      <td>0.006167</td>\n",
       "      <td>46.5</td>\n",
       "      <td>24.623264</td>\n",
       "      <td>0.0</td>\n",
       "      <td>0.010261</td>\n",
       "      <td>12.773579</td>\n",
       "      <td>0.690792</td>\n",
       "      <td>0.680531</td>\n",
       "      <td>-5.936047</td>\n",
       "      <td>105.512106</td>\n",
       "      <td>206</td>\n",
       "    </tr>\n",
       "    <tr>\n",
       "      <th>2021-06-21 03:30:46</th>\n",
       "      <td>0.689857</td>\n",
       "      <td>-5.5</td>\n",
       "      <td>0.006169</td>\n",
       "      <td>46.5</td>\n",
       "      <td>24.608559</td>\n",
       "      <td>0.0</td>\n",
       "      <td>0.012029</td>\n",
       "      <td>12.766147</td>\n",
       "      <td>0.692815</td>\n",
       "      <td>0.680786</td>\n",
       "      <td>-5.936047</td>\n",
       "      <td>105.512106</td>\n",
       "      <td>206</td>\n",
       "    </tr>\n",
       "    <tr>\n",
       "      <th>2021-06-21 03:30:57</th>\n",
       "      <td>0.691782</td>\n",
       "      <td>-5.5</td>\n",
       "      <td>0.006168</td>\n",
       "      <td>46.5</td>\n",
       "      <td>24.637985</td>\n",
       "      <td>0.0</td>\n",
       "      <td>0.013267</td>\n",
       "      <td>12.738335</td>\n",
       "      <td>0.694399</td>\n",
       "      <td>0.681132</td>\n",
       "      <td>-5.936047</td>\n",
       "      <td>105.512106</td>\n",
       "      <td>206</td>\n",
       "    </tr>\n",
       "    <tr>\n",
       "      <th>2021-06-21 03:31:08</th>\n",
       "      <td>0.679104</td>\n",
       "      <td>-5.5</td>\n",
       "      <td>0.006168</td>\n",
       "      <td>46.5</td>\n",
       "      <td>24.628616</td>\n",
       "      <td>0.0</td>\n",
       "      <td>0.010936</td>\n",
       "      <td>12.779099</td>\n",
       "      <td>0.692098</td>\n",
       "      <td>0.681162</td>\n",
       "      <td>-5.936047</td>\n",
       "      <td>105.512106</td>\n",
       "      <td>206</td>\n",
       "    </tr>\n",
       "  </tbody>\n",
       "</table>\n",
       "</div>"
      ],
      "text/plain": [
       "                     WaterLevelRadar  SolarPanel  RmsLimit  CPUTemperature  \\\n",
       "Timestamp                                                                    \n",
       "2021-06-21 03:30:24         0.694847        -5.5  0.006166            46.5   \n",
       "2021-06-21 03:30:35         0.682906        -5.5  0.006167            46.5   \n",
       "2021-06-21 03:30:46         0.689857        -5.5  0.006169            46.5   \n",
       "2021-06-21 03:30:57         0.691782        -5.5  0.006168            46.5   \n",
       "2021-06-21 03:31:08         0.679104        -5.5  0.006168            46.5   \n",
       "\n",
       "                     AmbientTemperature  Alert  AlertSignal    Battery  \\\n",
       "Timestamp                                                                \n",
       "2021-06-21 03:30:24           24.611229    0.0     0.010225  12.807974   \n",
       "2021-06-21 03:30:35           24.623264    0.0     0.010261  12.773579   \n",
       "2021-06-21 03:30:46           24.608559    0.0     0.012029  12.766147   \n",
       "2021-06-21 03:30:57           24.637985    0.0     0.013267  12.738335   \n",
       "2021-06-21 03:31:08           24.628616    0.0     0.010936  12.779099   \n",
       "\n",
       "                     Forecast30  Forecast300  Latitude   Longitude StationID  \n",
       "Timestamp                                                                     \n",
       "2021-06-21 03:30:24    0.690672     0.680448 -5.936047  105.512106       206  \n",
       "2021-06-21 03:30:35    0.690792     0.680531 -5.936047  105.512106       206  \n",
       "2021-06-21 03:30:46    0.692815     0.680786 -5.936047  105.512106       206  \n",
       "2021-06-21 03:30:57    0.694399     0.681132 -5.936047  105.512106       206  \n",
       "2021-06-21 03:31:08    0.692098     0.681162 -5.936047  105.512106       206  "
      ]
     },
     "execution_count": 9,
     "metadata": {},
     "output_type": "execute_result"
    }
   ],
   "source": [
    "df = gauges.get_gauges_data(station, start, end)\n",
    "df['Latitude'] = gauges.metadata.loc[station].Latitude\n",
    "df['Longitude'] = gauges.metadata.loc[station].Longitude\n",
    "df['StationID'] = station\n",
    "df.tail()"
   ]
  },
  {
   "cell_type": "code",
   "execution_count": 10,
   "id": "fd1bdb00-89d6-4b74-a01b-de64d656665c",
   "metadata": {},
   "outputs": [],
   "source": [
    "from matplotlib import pyplot as plt\n",
    "%matplotlib inline"
   ]
  },
  {
   "cell_type": "code",
   "execution_count": 11,
   "id": "a533872b-f597-48e6-989f-95d33f59709d",
   "metadata": {},
   "outputs": [
    {
     "data": {
      "text/plain": [
       "<AxesSubplot:xlabel='Timestamp'>"
      ]
     },
     "execution_count": 11,
     "metadata": {},
     "output_type": "execute_result"
    },
    {
     "data": {
      "image/png": "[encoded data removed]",
      "text/plain": [
       "<Figure size 432x288 with 1 Axes>"
      ]
     },
     "metadata": {
      "needs_background": "light"
     },
     "output_type": "display_data"
    }
   ],
   "source": [
    "df.WaterLevelRadar.plot()"
   ]
  },
  {
   "cell_type": "code",
   "execution_count": null,
   "id": "533f8364-cc68-45cc-a104-24ceb434f6fc",
   "metadata": {},
   "outputs": [],
   "source": []
  }
 ],
 "metadata": {
  "kernelspec": {
   "display_name": "Python 3",
   "language": "python",
   "name": "python3"
  },
  "language_info": {
   "codemirror_mode": {
    "name": "ipython",
    "version": 3
   },
   "file_extension": ".py",
   "mimetype": "text/x-python",
   "name": "python",
   "nbconvert_exporter": "python",
   "pygments_lexer": "ipython3",
   "version": "3.8.10"
  }
 },
 "nbformat": 4,
 "nbformat_minor": 5
}
