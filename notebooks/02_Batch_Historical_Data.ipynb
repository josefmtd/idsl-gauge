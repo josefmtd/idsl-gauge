{
 "cells": [
  {
   "cell_type": "code",
   "execution_count": 1,
   "id": "1a109c78-3304-43d0-af96-11cfc64b4ea6",
   "metadata": {},
   "outputs": [],
   "source": [
    "# !pip install --upgrade idsl-gauge"
   ]
  },
  {
   "cell_type": "code",
   "execution_count": 2,
   "id": "77a77cfb-8bbe-4a36-8d2c-97a4d608533c",
   "metadata": {},
   "outputs": [],
   "source": [
    "from idsl_gauge import IDSLGauge\n",
    "import pandas\n",
    "import datetime\n",
    "import os"
   ]
  },
  {
   "cell_type": "code",
   "execution_count": 3,
   "id": "569a5c7d-48ea-4637-98c4-c984f2141a35",
   "metadata": {},
   "outputs": [],
   "source": [
    "os.environ['IDSL_GROUP'] = 'Indonesia'\n",
    "os.environ['BATCH_DOWNLOAD_DAYS'] = '30'"
   ]
  },
  {
   "cell_type": "code",
   "execution_count": 4,
   "id": "c6ee8309-5bd4-4023-a3ce-258fab4f73be",
   "metadata": {},
   "outputs": [],
   "source": [
    "# IDSL environment variables\n",
    "group = os.environ.get('IDSL_GROUP')\n",
    "days = int(os.environ.get('BATCH_DOWNLOAD_DAYS'))\n",
    "\n",
    "max_latency = int(days * 24 * 60)\n",
    "all_records = int(max_latency * 15)\n",
    "max_records = max_latency"
   ]
  },
  {
   "cell_type": "code",
   "execution_count": 5,
   "id": "af63728a-3fdb-42ec-83d0-5486a38fd67c",
   "metadata": {},
   "outputs": [],
   "source": [
    "# Get station metadata\n",
    "gauges = IDSLGauge(group, max_latency)\n",
    "gauges.get_metadata()"
   ]
  },
  {
   "cell_type": "code",
   "execution_count": 6,
   "id": "b69fc890-9a53-47aa-a4fd-2a453989c05d",
   "metadata": {},
   "outputs": [
    {
     "data": {
      "text/html": [
       "<div>\n",
       "<style scoped>\n",
       "    .dataframe tbody tr th:only-of-type {\n",
       "        vertical-align: middle;\n",
       "    }\n",
       "\n",
       "    .dataframe tbody tr th {\n",
       "        vertical-align: top;\n",
       "    }\n",
       "\n",
       "    .dataframe thead th {\n",
       "        text-align: right;\n",
       "    }\n",
       "</style>\n",
       "<table border=\"1\" class=\"dataframe\">\n",
       "  <thead>\n",
       "    <tr style=\"text-align: right;\">\n",
       "      <th></th>\n",
       "      <th>Longitude</th>\n",
       "      <th>Latitude</th>\n",
       "      <th>Name</th>\n",
       "      <th>Sensor</th>\n",
       "      <th>Location</th>\n",
       "      <th>Country</th>\n",
       "      <th>Region</th>\n",
       "      <th>Provider</th>\n",
       "      <th>Latency_Seconds</th>\n",
       "    </tr>\n",
       "    <tr>\n",
       "      <th>id</th>\n",
       "      <th></th>\n",
       "      <th></th>\n",
       "      <th></th>\n",
       "      <th></th>\n",
       "      <th></th>\n",
       "      <th></th>\n",
       "      <th></th>\n",
       "      <th></th>\n",
       "      <th></th>\n",
       "    </tr>\n",
       "  </thead>\n",
       "  <tbody>\n",
       "    <tr>\n",
       "      <th>206</th>\n",
       "      <td>105.512106</td>\n",
       "      <td>-5.936047</td>\n",
       "      <td>IDSL-301</td>\n",
       "      <td>RAD</td>\n",
       "      <td>Sebesi</td>\n",
       "      <td>Indonesia</td>\n",
       "      <td>Lampung</td>\n",
       "      <td>JRC-MMAF</td>\n",
       "      <td>2</td>\n",
       "    </tr>\n",
       "    <tr>\n",
       "      <th>207</th>\n",
       "      <td>105.841088</td>\n",
       "      <td>-6.189322</td>\n",
       "      <td>IDSL-302</td>\n",
       "      <td>RAD</td>\n",
       "      <td>Marina Jambu</td>\n",
       "      <td>Indonesia</td>\n",
       "      <td>Banten</td>\n",
       "      <td>JRC-MMAF</td>\n",
       "      <td>11</td>\n",
       "    </tr>\n",
       "    <tr>\n",
       "      <th>208</th>\n",
       "      <td>99.585453</td>\n",
       "      <td>-2.037654</td>\n",
       "      <td>IDSL-303</td>\n",
       "      <td>RAD</td>\n",
       "      <td>Mentawai Tua Pejat</td>\n",
       "      <td>Indonesia</td>\n",
       "      <td>West Sumatra</td>\n",
       "      <td>JRC-MMAF</td>\n",
       "      <td>2</td>\n",
       "    </tr>\n",
       "    <tr>\n",
       "      <th>482</th>\n",
       "      <td>106.541573</td>\n",
       "      <td>-6.989507</td>\n",
       "      <td>IDSL-304</td>\n",
       "      <td>RAD</td>\n",
       "      <td>Pelabuhan Ratu</td>\n",
       "      <td>Indonesia</td>\n",
       "      <td>Jabar</td>\n",
       "      <td>JRC-MMAF</td>\n",
       "      <td>284928</td>\n",
       "    </tr>\n",
       "    <tr>\n",
       "      <th>483</th>\n",
       "      <td>100.396191</td>\n",
       "      <td>-1.029661</td>\n",
       "      <td>IDSL-305</td>\n",
       "      <td>RAD</td>\n",
       "      <td>Bungus Port</td>\n",
       "      <td>Indonesia</td>\n",
       "      <td>West Sumatra</td>\n",
       "      <td>JRC-MMAF</td>\n",
       "      <td>3</td>\n",
       "    </tr>\n",
       "  </tbody>\n",
       "</table>\n",
       "</div>"
      ],
      "text/plain": [
       "      Longitude  Latitude      Name Sensor            Location    Country  \\\n",
       "id                                                                          \n",
       "206  105.512106 -5.936047  IDSL-301    RAD             Sebesi   Indonesia   \n",
       "207  105.841088 -6.189322  IDSL-302    RAD        Marina Jambu  Indonesia   \n",
       "208   99.585453 -2.037654  IDSL-303    RAD  Mentawai Tua Pejat  Indonesia   \n",
       "482  106.541573 -6.989507  IDSL-304    RAD      Pelabuhan Ratu  Indonesia   \n",
       "483  100.396191 -1.029661  IDSL-305    RAD         Bungus Port  Indonesia   \n",
       "\n",
       "           Region  Provider  Latency_Seconds  \n",
       "id                                            \n",
       "206       Lampung  JRC-MMAF                2  \n",
       "207        Banten  JRC-MMAF               11  \n",
       "208  West Sumatra  JRC-MMAF                2  \n",
       "482         Jabar  JRC-MMAF           284928  \n",
       "483  West Sumatra  JRC-MMAF                3  "
      ]
     },
     "execution_count": 6,
     "metadata": {},
     "output_type": "execute_result"
    }
   ],
   "source": [
    "gauges.metadata.head()"
   ]
  },
  {
   "cell_type": "code",
   "execution_count": 7,
   "id": "9218e31a-1014-4746-8ab0-ea8e2fc46174",
   "metadata": {},
   "outputs": [
    {
     "data": {
      "text/plain": [
       "['206', '207', '208', '482', '483', '484', '485', '486']"
      ]
     },
     "execution_count": 7,
     "metadata": {},
     "output_type": "execute_result"
    }
   ],
   "source": [
    "gauges.stations"
   ]
  },
  {
   "cell_type": "code",
   "execution_count": 9,
   "id": "f11ac64f-e5c8-4e65-8158-17779adf6bae",
   "metadata": {},
   "outputs": [],
   "source": [
    "end = datetime.datetime.utcnow()\n",
    "start = end - datetime.timedelta(minutes = max_latency)\n",
    "station = gauges.stations[0]"
   ]
  },
  {
   "cell_type": "code",
   "execution_count": 10,
   "id": "aba00b28-e429-473b-9f3e-f536b21572c6",
   "metadata": {},
   "outputs": [
    {
     "data": {
      "text/html": [
       "<div>\n",
       "<style scoped>\n",
       "    .dataframe tbody tr th:only-of-type {\n",
       "        vertical-align: middle;\n",
       "    }\n",
       "\n",
       "    .dataframe tbody tr th {\n",
       "        vertical-align: top;\n",
       "    }\n",
       "\n",
       "    .dataframe thead th {\n",
       "        text-align: right;\n",
       "    }\n",
       "</style>\n",
       "<table border=\"1\" class=\"dataframe\">\n",
       "  <thead>\n",
       "    <tr style=\"text-align: right;\">\n",
       "      <th></th>\n",
       "      <th>WaterLevelRadar</th>\n",
       "      <th>SolarPanel</th>\n",
       "      <th>RmsLimit</th>\n",
       "      <th>CPUTemperature</th>\n",
       "      <th>AmbientTemperature</th>\n",
       "      <th>Alert</th>\n",
       "      <th>AlertSignal</th>\n",
       "      <th>Battery</th>\n",
       "      <th>Forecast30</th>\n",
       "      <th>Forecast300</th>\n",
       "      <th>Latitude</th>\n",
       "      <th>Longitude</th>\n",
       "      <th>StationID</th>\n",
       "    </tr>\n",
       "    <tr>\n",
       "      <th>Timestamp</th>\n",
       "      <th></th>\n",
       "      <th></th>\n",
       "      <th></th>\n",
       "      <th></th>\n",
       "      <th></th>\n",
       "      <th></th>\n",
       "      <th></th>\n",
       "      <th></th>\n",
       "      <th></th>\n",
       "      <th></th>\n",
       "      <th></th>\n",
       "      <th></th>\n",
       "      <th></th>\n",
       "    </tr>\n",
       "  </thead>\n",
       "  <tbody>\n",
       "    <tr>\n",
       "      <th>2021-05-22 03:35:45</th>\n",
       "      <td>0.802915</td>\n",
       "      <td>-5.5</td>\n",
       "      <td>0.007997</td>\n",
       "      <td>47.599998</td>\n",
       "      <td>25.363369</td>\n",
       "      <td>0.0</td>\n",
       "      <td>0.004221</td>\n",
       "      <td>12.299477</td>\n",
       "      <td>0.803994</td>\n",
       "      <td>0.808215</td>\n",
       "      <td>-5.936047</td>\n",
       "      <td>105.512106</td>\n",
       "      <td>206</td>\n",
       "    </tr>\n",
       "    <tr>\n",
       "      <th>2021-05-22 03:36:18</th>\n",
       "      <td>0.821734</td>\n",
       "      <td>-5.5</td>\n",
       "      <td>0.007912</td>\n",
       "      <td>47.599998</td>\n",
       "      <td>25.357807</td>\n",
       "      <td>0.0</td>\n",
       "      <td>0.002060</td>\n",
       "      <td>12.314763</td>\n",
       "      <td>0.807005</td>\n",
       "      <td>0.809065</td>\n",
       "      <td>-5.936047</td>\n",
       "      <td>105.512106</td>\n",
       "      <td>206</td>\n",
       "    </tr>\n",
       "    <tr>\n",
       "      <th>2021-05-22 03:37:02</th>\n",
       "      <td>0.810219</td>\n",
       "      <td>-5.5</td>\n",
       "      <td>0.007898</td>\n",
       "      <td>47.599998</td>\n",
       "      <td>25.371700</td>\n",
       "      <td>0.0</td>\n",
       "      <td>0.004671</td>\n",
       "      <td>12.323468</td>\n",
       "      <td>0.816224</td>\n",
       "      <td>0.811553</td>\n",
       "      <td>-5.936047</td>\n",
       "      <td>105.512106</td>\n",
       "      <td>206</td>\n",
       "    </tr>\n",
       "    <tr>\n",
       "      <th>2021-05-22 03:37:46</th>\n",
       "      <td>0.807991</td>\n",
       "      <td>-5.5</td>\n",
       "      <td>0.007875</td>\n",
       "      <td>47.599998</td>\n",
       "      <td>25.348095</td>\n",
       "      <td>0.0</td>\n",
       "      <td>0.002649</td>\n",
       "      <td>12.333872</td>\n",
       "      <td>0.809860</td>\n",
       "      <td>0.812509</td>\n",
       "      <td>-5.936047</td>\n",
       "      <td>105.512106</td>\n",
       "      <td>206</td>\n",
       "    </tr>\n",
       "    <tr>\n",
       "      <th>2021-05-22 03:38:41</th>\n",
       "      <td>0.806170</td>\n",
       "      <td>-5.5</td>\n",
       "      <td>0.008056</td>\n",
       "      <td>47.599998</td>\n",
       "      <td>25.336994</td>\n",
       "      <td>0.0</td>\n",
       "      <td>0.006694</td>\n",
       "      <td>12.333235</td>\n",
       "      <td>0.806732</td>\n",
       "      <td>0.813426</td>\n",
       "      <td>-5.936047</td>\n",
       "      <td>105.512106</td>\n",
       "      <td>206</td>\n",
       "    </tr>\n",
       "  </tbody>\n",
       "</table>\n",
       "</div>"
      ],
      "text/plain": [
       "                     WaterLevelRadar  SolarPanel  RmsLimit  CPUTemperature  \\\n",
       "Timestamp                                                                    \n",
       "2021-05-22 03:35:45         0.802915        -5.5  0.007997       47.599998   \n",
       "2021-05-22 03:36:18         0.821734        -5.5  0.007912       47.599998   \n",
       "2021-05-22 03:37:02         0.810219        -5.5  0.007898       47.599998   \n",
       "2021-05-22 03:37:46         0.807991        -5.5  0.007875       47.599998   \n",
       "2021-05-22 03:38:41         0.806170        -5.5  0.008056       47.599998   \n",
       "\n",
       "                     AmbientTemperature  Alert  AlertSignal    Battery  \\\n",
       "Timestamp                                                                \n",
       "2021-05-22 03:35:45           25.363369    0.0     0.004221  12.299477   \n",
       "2021-05-22 03:36:18           25.357807    0.0     0.002060  12.314763   \n",
       "2021-05-22 03:37:02           25.371700    0.0     0.004671  12.323468   \n",
       "2021-05-22 03:37:46           25.348095    0.0     0.002649  12.333872   \n",
       "2021-05-22 03:38:41           25.336994    0.0     0.006694  12.333235   \n",
       "\n",
       "                     Forecast30  Forecast300  Latitude   Longitude StationID  \n",
       "Timestamp                                                                     \n",
       "2021-05-22 03:35:45    0.803994     0.808215 -5.936047  105.512106       206  \n",
       "2021-05-22 03:36:18    0.807005     0.809065 -5.936047  105.512106       206  \n",
       "2021-05-22 03:37:02    0.816224     0.811553 -5.936047  105.512106       206  \n",
       "2021-05-22 03:37:46    0.809860     0.812509 -5.936047  105.512106       206  \n",
       "2021-05-22 03:38:41    0.806732     0.813426 -5.936047  105.512106       206  "
      ]
     },
     "execution_count": 10,
     "metadata": {},
     "output_type": "execute_result"
    }
   ],
   "source": [
    "# Use max_records for 1 minute data\n",
    "df = gauges.get_gauges_data(station, start, end, max_records)\n",
    "# Use all_records for full data\n",
    "# df = gauges.get_gauges_data(station, start, end, all_records)\n",
    "\n",
    "df['Latitude'] = gauges.metadata.loc[station].Latitude\n",
    "df['Longitude'] = gauges.metadata.loc[station].Longitude\n",
    "df['StationID'] = station\n",
    "df.head()"
   ]
  },
  {
   "cell_type": "code",
   "execution_count": 11,
   "id": "66306fd2-2561-4c78-89c9-15b70913c572",
   "metadata": {},
   "outputs": [],
   "source": [
    "from matplotlib import pyplot as plt\n",
    "%matplotlib inline"
   ]
  },
  {
   "cell_type": "code",
   "execution_count": 12,
   "id": "1629710a-8d2c-44cd-baee-d77937ae433e",
   "metadata": {},
   "outputs": [
    {
     "data": {
      "text/plain": [
       "<AxesSubplot:xlabel='Timestamp'>"
      ]
     },
     "execution_count": 12,
     "metadata": {},
     "output_type": "execute_result"
    },
    {
     "data": {
      "image/png": "[encoded data removed]",
      "text/plain": [
       "<Figure size 432x288 with 1 Axes>"
      ]
     },
     "metadata": {
      "needs_background": "light"
     },
     "output_type": "display_data"
    }
   ],
   "source": [
    "df.WaterLevelRadar.plot()"
   ]
  },
  {
   "cell_type": "code",
   "execution_count": null,
   "id": "7a00e4bc-dfe9-4ac9-977b-51561b9f87be",
   "metadata": {},
   "outputs": [],
   "source": []
  }
 ],
 "metadata": {
  "kernelspec": {
   "display_name": "Python 3",
   "language": "python",
   "name": "python3"
  },
  "language_info": {
   "codemirror_mode": {
    "name": "ipython",
    "version": 3
   },
   "file_extension": ".py",
   "mimetype": "text/x-python",
   "name": "python",
   "nbconvert_exporter": "python",
   "pygments_lexer": "ipython3",
   "version": "3.8.10"
  }
 },
 "nbformat": 4,
 "nbformat_minor": 5
}
